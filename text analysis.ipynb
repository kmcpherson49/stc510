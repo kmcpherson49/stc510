{
 "cells": [
  {
   "cell_type": "code",
   "execution_count": 138,
   "id": "fbb6b0f8-6a54-4847-b157-fe076b970aaf",
   "metadata": {
    "tags": []
   },
   "outputs": [
    {
     "name": "stderr",
     "output_type": "stream",
     "text": [
      "[nltk_data] Downloading package stopwords to\n",
      "[nltk_data]     C:\\Users\\Krista\\AppData\\Roaming\\nltk_data...\n",
      "[nltk_data]   Package stopwords is already up-to-date!\n",
      "[nltk_data] Downloading package punkt to\n",
      "[nltk_data]     C:\\Users\\Krista\\AppData\\Roaming\\nltk_data...\n",
      "[nltk_data]   Package punkt is already up-to-date!\n",
      "[nltk_data] Downloading package wordnet to\n",
      "[nltk_data]     C:\\Users\\Krista\\AppData\\Roaming\\nltk_data...\n",
      "[nltk_data]   Package wordnet is already up-to-date!\n"
     ]
    }
   ],
   "source": [
    "from nltk import word_tokenize\n",
    "import nltk\n",
    "nltk.download('stopwords')\n",
    "nltk.download('punkt')\n",
    "nltk.download('wordnet')\n",
    "from nltk.corpus import stopwords\n",
    "from nltk.stem import WordNetLemmatizer\n",
    "from bs4 import BeautifulSoup\n",
    "from sklearn.feature_extraction.text import TfidfVectorizer\n",
    "from sklearn.model_selection import train_test_split\n",
    "from sklearn.naive_bayes import MultinomialNB\n",
    "from sklearn.metrics import accuracy_score\n",
    "import pandas as pd \n",
    "import os\n",
    "import re\n",
    "from string import punctuation\n",
    "from datetime import datetime\n",
    "\n",
    "DIRNAME = 'data/stc510/questions'\n",
    "\n",
    "english_stopwords = set(stopwords.words('english') + list(punctuation))"
   ]
  },
  {
   "cell_type": "markdown",
   "id": "edbb90f5-83b8-483b-ad45-c073fb84bdf7",
   "metadata": {
    "tags": []
   },
   "source": [
    "if need to turn into list: qlist = df.values.tolist() "
   ]
  },
  {
   "cell_type": "code",
   "execution_count": 226,
   "id": "558bfa43-1d38-4ea5-84db-a3b93c6a3b1b",
   "metadata": {
    "tags": []
   },
   "outputs": [],
   "source": [
    "df = pd.read_json('data/stc510/questions/jeopardy.json')"
   ]
  },
  {
   "cell_type": "code",
   "execution_count": null,
   "id": "b7395253-11b6-4afd-8e61-7606b1502829",
   "metadata": {
    "tags": []
   },
   "outputs": [],
   "source": [
    "df"
   ]
  },
  {
   "cell_type": "code",
   "execution_count": 196,
   "id": "42177b22-aafe-40db-9fe7-27e9d5ba8f3f",
   "metadata": {
    "tags": []
   },
   "outputs": [
    {
     "data": {
      "text/plain": [
       "0          True\n",
       "1          True\n",
       "2          True\n",
       "3          True\n",
       "4          True\n",
       "          ...  \n",
       "216925    False\n",
       "216926    False\n",
       "216927    False\n",
       "216928    False\n",
       "216929    False\n",
       "Name: value, Length: 216930, dtype: bool"
      ]
     },
     "execution_count": 196,
     "metadata": {},
     "output_type": "execute_result"
    }
   ],
   "source": [
    "qeasy = df['value'] <'$2000'\n",
    "qeasy"
   ]
  },
  {
   "cell_type": "code",
   "execution_count": 211,
   "id": "2d97ed1c-dad4-4f8c-b6d4-aa7e9a9daf1d",
   "metadata": {
    "tags": []
   },
   "outputs": [],
   "source": [
    "df.loc[qeasy, 'show_number'] = 0\n"
   ]
  },
  {
   "cell_type": "code",
   "execution_count": 198,
   "id": "52c1aa37-5ba4-407f-96dd-a37e2dbcc52c",
   "metadata": {
    "tags": []
   },
   "outputs": [],
   "source": [
    "qeasylist = qeasy.values.tolist()"
   ]
  },
  {
   "cell_type": "code",
   "execution_count": 181,
   "id": "13e035fa-2f28-46e3-81ae-e491208cce3b",
   "metadata": {
    "tags": []
   },
   "outputs": [
    {
     "data": {
      "text/plain": [
       "0         False\n",
       "1         False\n",
       "2         False\n",
       "3         False\n",
       "4         False\n",
       "          ...  \n",
       "216925     True\n",
       "216926     True\n",
       "216927     True\n",
       "216928     True\n",
       "216929    False\n",
       "Name: value, Length: 216930, dtype: bool"
      ]
     },
     "execution_count": 181,
     "metadata": {},
     "output_type": "execute_result"
    }
   ],
   "source": [
    "qhard = df['value'] >= '$2000'\n",
    "qhard"
   ]
  },
  {
   "cell_type": "code",
   "execution_count": 210,
   "id": "3f366dfb-2a31-417f-99de-762e95ad5a2c",
   "metadata": {
    "tags": []
   },
   "outputs": [],
   "source": [
    "df.loc[qhard, 'show_number'] = 1\n"
   ]
  },
  {
   "cell_type": "code",
   "execution_count": 184,
   "id": "72b14031-4b47-4508-bc96-adb96c248acf",
   "metadata": {
    "tags": []
   },
   "outputs": [],
   "source": [
    "qhardlist = qhard.values.tolist()"
   ]
  },
  {
   "cell_type": "code",
   "execution_count": 185,
   "id": "f2ac31fc-a9b7-4013-9150-93f7b2406746",
   "metadata": {
    "tags": []
   },
   "outputs": [],
   "source": [
    "corpuseasy = ' '.join([str(x) for x in qeasylist])"
   ]
  },
  {
   "cell_type": "code",
   "execution_count": 186,
   "id": "6cc55810-5d2e-4f4b-890d-f56afaa91780",
   "metadata": {
    "tags": []
   },
   "outputs": [],
   "source": [
    "corpushard = ' '.join([str(x) for x in qhardlist])"
   ]
  },
  {
   "cell_type": "code",
   "execution_count": 187,
   "id": "c139e310-81bb-4602-b721-1026ba21f7e7",
   "metadata": {
    "tags": []
   },
   "outputs": [],
   "source": [
    "easywords = [WordNetLemmatizer().lemmatize(x) for x in word_tokenize(corpuseasy)\n",
    "             if x not in english_stopwords]"
   ]
  },
  {
   "cell_type": "code",
   "execution_count": 188,
   "id": "e396373a-5647-4119-b78d-e6baebbc25c0",
   "metadata": {
    "tags": []
   },
   "outputs": [],
   "source": [
    "hardwords = [WordNetLemmatizer().lemmatize(x) for x in word_tokenize(corpushard)\n",
    "             if x not in english_stopwords]"
   ]
  },
  {
   "cell_type": "code",
   "execution_count": 219,
   "id": "e417ab7f-03c1-4deb-a6d8-4e0c1157f7b8",
   "metadata": {
    "tags": []
   },
   "outputs": [],
   "source": [
    "newdf = pd.DataFrame({'easy': easywords,\n",
    "                      'hard': hardwords})"
   ]
  },
  {
   "cell_type": "code",
   "execution_count": 220,
   "id": "edca517b-d750-4a97-b1ad-cf1459c6a6e3",
   "metadata": {
    "tags": []
   },
   "outputs": [],
   "source": [
    "x_train, x_test, y_train, y_test = train_test_split(newdf.easy, newdf.hard, random_state=1)"
   ]
  },
  {
   "cell_type": "code",
   "execution_count": 221,
   "id": "c3033b12-8d6d-4df9-aba3-ab85a8db5737",
   "metadata": {
    "tags": []
   },
   "outputs": [],
   "source": [
    "tfidf_vectorizer = TfidfVectorizer(use_idf=True)\n",
    "x_train_tf = tfidf_vectorizer.fit_transform(x_train)\n",
    "x_test_tf = tfidf_vectorizer.transform(x_test)"
   ]
  },
  {
   "cell_type": "code",
   "execution_count": 222,
   "id": "59036d32-c444-4c56-a899-03d9280d6a68",
   "metadata": {
    "tags": []
   },
   "outputs": [],
   "source": [
    "naive_bayes = MultinomialNB()\n",
    "naive_bayes.fit(x_train_tf, y_train)\n",
    "predictions = naive_bayes.predict(x_test_tf)"
   ]
  },
  {
   "cell_type": "code",
   "execution_count": 223,
   "id": "17a767e7-f870-4dae-b1f9-291c9b901100",
   "metadata": {
    "tags": []
   },
   "outputs": [
    {
     "name": "stdout",
     "output_type": "stream",
     "text": [
      "Accuracy:  0.9826305017240425\n"
     ]
    }
   ],
   "source": [
    "print('Accuracy: ', accuracy_score(y_test, predictions))"
   ]
  },
  {
   "cell_type": "code",
   "execution_count": null,
   "id": "c11f0a26-7f8b-4faf-bcc8-5a6bcbf59593",
   "metadata": {},
   "outputs": [],
   "source": []
  }
 ],
 "metadata": {
  "kernelspec": {
   "display_name": "Python 3 (ipykernel)",
   "language": "python",
   "name": "python3"
  },
  "language_info": {
   "codemirror_mode": {
    "name": "ipython",
    "version": 3
   },
   "file_extension": ".py",
   "mimetype": "text/x-python",
   "name": "python",
   "nbconvert_exporter": "python",
   "pygments_lexer": "ipython3",
   "version": "3.11.5"
  }
 },
 "nbformat": 4,
 "nbformat_minor": 5
}
